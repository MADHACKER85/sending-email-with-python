{
  "nbformat": 4,
  "nbformat_minor": 0,
  "metadata": {
    "colab": {
      "provenance": [],
      "authorship_tag": "ABX9TyNg0eqTkpS1cd2/NIIwMPAy",
      "include_colab_link": true
    },
    "kernelspec": {
      "name": "python3",
      "display_name": "Python 3"
    },
    "language_info": {
      "name": "python"
    }
  },
  "cells": [
    {
      "cell_type": "markdown",
      "metadata": {
        "id": "view-in-github",
        "colab_type": "text"
      },
      "source": [
        "<a href=\"https://colab.research.google.com/github/MADHACKER85/sending-email-with-python/blob/main/email.ipynb\" target=\"_parent\"><img src=\"https://colab.research.google.com/assets/colab-badge.svg\" alt=\"Open In Colab\"/></a>"
      ]
    },
    {
      "cell_type": "code",
      "execution_count": null,
      "metadata": {
        "colab": {
          "base_uri": "https://localhost:8080/"
        },
        "id": "EjTyHJgE0H1w",
        "outputId": "0a7559ab-7560-437f-b3cf-b35c6c59606f"
      },
      "outputs": [
        {
          "output_type": "execute_result",
          "data": {
            "text/plain": [
              "(221,\n",
              " b'2.0.0 closing connection a1e0cc1a2514c-855dae48f68sm1683328241.28 - gsmtp')"
            ]
          },
          "metadata": {},
          "execution_count": 4
        }
      ],
      "source": [
        "import smtplib\n",
        "# creates SMTP session\n",
        "s = smtplib.SMTP('smtp.gmail.com', 587)\n",
        "# start TLS for security\n",
        "s.starttls()\n",
        "# Authentication\n",
        "s.login(\"kkv3399@gmail.com\", \"cize fslu ywmt wsyr\")\n",
        "# message to be sent\n",
        "message = \"Message_you_need_to_send\"\n",
        "# sending the mail\n",
        "s.sendmail(\"kkv3399@gmail.com\", \"kkvs5699@gmail.com\", message)\n",
        "# terminating the session\n",
        "s.quit()\n"
      ]
    },
    {
      "cell_type": "code",
      "source": [
        "import smtplib\n",
        "from email.mime.multipart import MIMEMultipart\n",
        "from email.mime.text import MIMEText\n",
        "from email.mime.image import MIMEImage\n",
        "\n",
        "# Email configuration\n",
        "from_addr = \"kkv3399@gmail.com\"\n",
        "to_addr = \"kkvs5699@gmail.com\"\n",
        "subject = \"Subject of the Email\"\n",
        "body_text = \"This is the body of the email.\"\n",
        "\n",
        "# Create a multipart message\n",
        "msg = MIMEMultipart()\n",
        "msg['From'] = from_addr\n",
        "msg['To'] = to_addr\n",
        "msg['Subject'] = subject\n",
        "\n",
        "# Attach the text body\n",
        "msg.attach(MIMEText(body_text, 'plain'))\n",
        "\n",
        "# Open the image file and attach it\n",
        "with open('/content/pexels-eberhardgross-691668.jpg', 'rb') as img_file:\n",
        "    img = MIMEImage(img_file.read())\n",
        "    img.add_header('Content-ID', '<image1>')\n",
        "    msg.attach(img)\n",
        "\n",
        "# Optionally, you can include HTML content that references the image\n",
        "html_body = f\"\"\"\n",
        "<html>\n",
        "    <body>\n",
        "        <h1>This is an HTML Email</h1>\n",
        "        <p>Here is an embedded image:</p>\n",
        "        <img src=\"cid:image1\">\n",
        "    </body>\n",
        "</html>\n",
        "\"\"\"\n",
        "msg.attach(MIMEText(html_body, 'html'))\n",
        "\n",
        "# Sending the email\n",
        "try:\n",
        "    s = smtplib.SMTP('smtp.gmail.com', 587)\n",
        "    s.starttls()\n",
        "    s.login(\"kkv3399@gmail.com\", \"cize fslu ywmt wsyr\")  # Use app-specific password if 2FA is enabled\n",
        "    s.sendmail(from_addr, to_addr, msg.as_string())\n",
        "finally:\n",
        "    s.quit()"
      ],
      "metadata": {
        "id": "ScNDrOE03a8b"
      },
      "execution_count": null,
      "outputs": []
    },
    {
      "cell_type": "markdown",
      "source": [
        "# New Section"
      ],
      "metadata": {
        "id": "eAgfjBbi3nxd"
      }
    }
  ]
}